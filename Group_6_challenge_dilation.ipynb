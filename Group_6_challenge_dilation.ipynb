{
 "cells": [
  {
   "cell_type": "markdown",
   "id": "cab2f217",
   "metadata": {},
   "source": [
    "**Dilation: Making Objects Bigger**\n",
    "\n",
    "Dilation is the opposite of erosion. Instead of removing pixels, it adds pixels to the edges of objects, making them larger. If any part of the structuring element touches the object, the object grows in size.\n",
    "\n",
    "The dilation operation is a morphological operation that grows the white regions in a binary image. It works by placing the structuring element (a small binary mask) on top of the image and setting the center of the image under the structuring element to 1 if any pixel under the structuring element is 1.\n",
    "\n",
    "**Example:** If you apply dilation to a broken line, the gaps will be filled, making it a complete line. In this case the line it's not broken, so it becomes thicker."
   ]
  },
  {
   "cell_type": "markdown",
   "id": "aaed7fc4",
   "metadata": {},
   "source": [
    "**CHALLENGE: Implementing a Manual Dilation Function**\n",
    "\n",
    "Your task is to replace the existing implementation of the dilation_manual function, which currently uses the cv2.dilate function, with a manual implementation. \n",
    "\n",
    "**Hints:** \n",
    "You can start by examining the erosion_manual function for some ideas."
   ]
  },
  {
   "cell_type": "code",
   "execution_count": null,
   "id": "dd96bb9a",
   "metadata": {},
   "outputs": [],
   "source": [
    "import numpy as np\n",
    "import cv2\n",
    "import matplotlib.pyplot as plt\n",
    "\n",
    "# Load the image in grayscale\n",
    "image = cv2.imread('test.jpg', cv2.IMREAD_GRAYSCALE)\n",
    "\n",
    "# Convert to binary image (ensure background is black and text is white)\n",
    "_, binary = cv2.threshold(image, 127, 255, cv2.THRESH_BINARY_INV)\n",
    "\n",
    "# Define the kernel\n",
    "kernel = np.ones((3, 3), np.uint8)\n",
    "\n",
    "# Erosion function\n",
    "def erosion_manual(image, struct_elem):\n",
    "    h, w = image.shape\n",
    "    sh, sw = struct_elem.shape\n",
    "    pad_h, pad_w = sh // 2, sw // 2\n",
    "\n",
    "    # Convert image to binary if it contains values in the range 0-255\n",
    "    if np.max(image) == 255:\n",
    "        image = image // 255  # Convert image to binary values (0 or 1)\n",
    "\n",
    "    # Apply padding to the original image\n",
    "    padded_image = np.pad(image, ((pad_h, pad_h), (pad_w, pad_w)), mode='constant', constant_values=0)\n",
    "    eroded_image = np.zeros_like(image)\n",
    "\n",
    "    # Apply erosion by scanning the image\n",
    "    for i in range(h):\n",
    "        for j in range(w):\n",
    "            region = padded_image[i:i+sh, j:j+sw]\n",
    "            \n",
    "            # Check if all pixels corresponding to 1s in struct_elem are also 1 in the image\n",
    "            if np.all(region[struct_elem == 1] == 1):  \n",
    "                eroded_image[i, j] = 1  # Retain pixel only if it matches the structuring element\n",
    "\n",
    "    return eroded_image\n",
    "\n",
    "# Provided dilation function (using cv2.dilate)\n",
    "def dilation_manual(image, struct_elem):\n",
    "    # Your task: Replace this with the manual implementation!\n",
    "    dilated_image = cv2.dilate(image, struct_elem, iterations=1)\n",
    "    return dilated_image\n"
   ]
  }
 ],
 "metadata": {
  "kernelspec": {
   "display_name": "Python 3 (ipykernel)",
   "language": "python",
   "name": "python3"
  },
  "language_info": {
   "codemirror_mode": {
    "name": "ipython",
    "version": 3
   },
   "file_extension": ".py",
   "mimetype": "text/x-python",
   "name": "python",
   "nbconvert_exporter": "python",
   "pygments_lexer": "ipython3",
   "version": "3.10.12"
  }
 },
 "nbformat": 4,
 "nbformat_minor": 5
}
