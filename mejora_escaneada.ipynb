{
 "cells": [
  {
   "cell_type": "code",
   "execution_count": null,
   "id": "781fd607",
   "metadata": {},
   "outputs": [],
   "source": [
    "import cv2\n",
    "import numpy as np\n",
    "import matplotlib.pyplot as plt\n",
    "\n",
    "# Cargar imagen en escala de grises\n",
    "image_path = \"\"  # Usa tu propia imagen escaneada\n",
    "image = cv2.imread(image_path, cv2.IMREAD_GRAYSCALE)\n",
    "\n",
    "# Aplicar la transformación Top-Hat para resaltar texto\n",
    "kernel = cv2.getStructuringElement(cv2.MORPH_RECT, (15, 15))\n",
    "tophat = cv2.morphologyEx(image, cv2.MORPH_TOPHAT, kernel)\n",
    "\n",
    "# Aplicar la transformación Black-Hat para eliminar manchas\n",
    "blackhat = cv2.morphologyEx(image, cv2.MORPH_BLACKHAT, kernel)\n",
    "\n",
    "# Aplicar cierre morfológico para mejorar la estructura del texto\n",
    "cleaned = cv2.morphologyEx(image, cv2.MORPH_CLOSE, kernel)\n",
    "\n",
    "# Mostrar resultados\n",
    "plt.figure(figsize=(12, 6))\n",
    "plt.subplot(1, 3, 1)\n",
    "plt.imshow(image, cmap='gray')\n",
    "plt.title(\"Documento Original\")\n",
    "\n",
    "plt.subplot(1, 3, 2)\n",
    "plt.imshow(blackhat, cmap='gray')\n",
    "plt.title(\"Eliminación de Manchas\")\n",
    "\n",
    "plt.subplot(1, 3, 3)\n",
    "plt.imshow(cleaned, cmap='gray')\n",
    "plt.title(\"Documento Limpio\")\n",
    "\n",
    "plt.show()"
   ]
  }
 ],
 "metadata": {
  "kernelspec": {
   "display_name": "Python 3 (ipykernel)",
   "language": "python",
   "name": "python3"
  },
  "language_info": {
   "codemirror_mode": {
    "name": "ipython",
    "version": 3
   },
   "file_extension": ".py",
   "mimetype": "text/x-python",
   "name": "python",
   "nbconvert_exporter": "python",
   "pygments_lexer": "ipython3",
   "version": "3.10.12"
  }
 },
 "nbformat": 4,
 "nbformat_minor": 5
}
