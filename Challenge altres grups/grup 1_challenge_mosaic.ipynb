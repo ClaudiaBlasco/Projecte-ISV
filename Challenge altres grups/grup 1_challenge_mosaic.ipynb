{
 "cells": [
  {
   "cell_type": "markdown",
   "metadata": {
    "id": "owLK_vEDMMJ3"
   },
   "source": [
    "# **GROUP 1: MOSAICS**\n",
    "\n",
    "### **Done by Pere Maeso, Sergi Escudero, David Miquel, Oriol Ramos and Pepe Moran**\n",
    "\n",
    "\n",
    "\n",
    "\n",
    "**Write the name of the members of the group:**"
   ]
  },
  {
   "cell_type": "markdown",
   "metadata": {
    "id": "vDQjFm5TNKPO"
   },
   "source": [
    "#"
   ]
  },
  {
   "cell_type": "markdown",
   "metadata": {
    "id": "ZfYNpQ_yGnWp"
   },
   "source": [
    "Our code creates a **photomosaic**, an image composed of smaller images (tiles) that resemble the original picture when viewed from a distance. It analyzes an image, divides it into small sections, and replaces each section with the most color-matching image from a predefined dataset."
   ]
  },
  {
   "cell_type": "markdown",
   "metadata": {
    "id": "qX8R9so4N9SM"
   },
   "source": [
    "## **Key Parts of the Code**\n",
    "\n",
    "**Importation:**\n",
    "We proceed to import the necessary libraries in order to make the code work."
   ]
  },
  {
   "cell_type": "code",
   "execution_count": 19,
   "metadata": {
    "id": "RBYfPslEHntR"
   },
   "outputs": [],
   "source": [
    "import json  # To handle caching of data in JSON format\n",
    "import os  # To interact with the operating system (listing files, checking file existence, etc.)\n",
    "import math  # For mathematical operations, such as calculating distances\n",
    "import random  # To randomly select elements\n",
    "\n",
    "import numpy as np  # To handle operations with matrices and numerical arrays\n",
    "import cv2  # For image processing\n",
    "from PIL import Image\n",
    "import matplotlib.pyplot as plt\n",
    "import copy\n",
    "from scipy.ndimage import zoom"
   ]
  },
  {
   "cell_type": "markdown",
   "metadata": {
    "id": "g5sK5gZFIEoH"
   },
   "source": [
    "**Average Color Calculation:**\n",
    "*The function get_average_color(img)* calculates the average color of an image by averaging pixel values. This helps in matching tiles to the closest images in the dataset."
   ]
  },
  {
   "cell_type": "code",
   "execution_count": 20,
   "metadata": {
    "id": "idFjmITlIMcJ"
   },
   "outputs": [],
   "source": [
    "# Function to calculate the average color of an image\n",
    "def get_average_color(img):\n",
    "    \n",
    "    return img[0, 0]\n",
    "    "
   ]
  },
  {
   "cell_type": "markdown",
   "metadata": {
    "id": "Kd5B7rjiIO0_"
   },
   "source": [
    "**Finding the Closest Color:**\n",
    "The function *get_closest_color(color, colors)* uses Euclidean distance to compare colors and find the closest match from a predefined list. This ensures the tiles resemble the original image."
   ]
  },
  {
   "cell_type": "code",
   "execution_count": 26,
   "metadata": {
    "id": "SzHX5nPpIWgm"
   },
   "outputs": [],
   "source": [
    "# Function to find the closest color from a predefined list of colors\n",
    "def get_closest_color(color, colors):\n",
    "    if not colors:  # Si la lista está vacía, lanzar un error o devolver un color predeterminado\n",
    "        raise ValueError(\"No hay colores en la caché\")\n",
    "\n",
    "    color = np.array(color)\n",
    "    colors = np.array([np.array(eval(c)) for c in colors])  # Convertir los colores a arrays NumPy\n",
    "\n",
    "    distances = np.linalg.norm(colors - color, axis=1)  # Calcular distancia euclidiana\n",
    "    return str(tuple(colors[np.argmin(distances)]))\n"
   ]
  },
  {
   "cell_type": "markdown",
   "metadata": {
    "id": "if4k-u4jImiv"
   },
   "source": [
    "**Caching Image Data:**\n",
    "If a cache does not exist, the program scans the \"animals\" directory, computes the average color for each image, and stores the results in a cache.json file. This avoids recalculating colors every time the program runs.\n"
   ]
  },
  {
   "cell_type": "code",
   "execution_count": 27,
   "metadata": {
    "colab": {
     "base_uri": "https://localhost:8080/"
    },
    "id": "CHygW4OFIeVA",
    "outputId": "011bc76d-a797-4bbe-d739-b98676652246"
   },
   "outputs": [],
   "source": [
    "def cache(carpeta_script, carpeta_fotos):\n",
    "    print(\"Generating cache...\")\n",
    "    images = []\n",
    "\n",
    "    for root, dirs, files in os.walk(carpeta_fotos):\n",
    "        for file in files:\n",
    "            if file.lower().endswith(('png', 'jpg', 'jpeg')):\n",
    "                file = os.path.join(root, file)\n",
    "                file = os.path.relpath(file, carpeta_script)\n",
    "                images.append(file)\n",
    "\n",
    "    data = {}  # Dictionary to store average colors and their associated images\n",
    "\n",
    "    for img_path in images:\n",
    "        imagen = Image.open(img_path)  # Cargar imagen JPEG\n",
    "        imagen_np = np.array(imagen)\n",
    "        average_color = get_average_color(imagen_np)  # Get the average color of the image\n",
    "\n",
    "        # Store image paths based on their average color in the dictionary\n",
    "        if str(tuple(average_color)) in data:\n",
    "            data[str(tuple(average_color))].append(str(img_path))\n",
    "        else:\n",
    "            data[str(tuple(average_color))] = [str(img_path)]\n",
    "\n",
    "    # Save the dictionary to a JSON file to avoid recalculating in the future\n",
    "    with open(\"cache.json\", \"w\") as file:\n",
    "        json.dump(data, file, indent=2, sort_keys=True)\n",
    "\n",
    "    print(\"Cache generated\")"
   ]
  },
  {
   "cell_type": "markdown",
   "metadata": {
    "id": "J73H4G2ALFN5"
   },
   "source": [
    "## **Example with our Image**\n"
   ]
  },
  {
   "cell_type": "markdown",
   "metadata": {},
   "source": [
    "Generate the cache"
   ]
  },
  {
   "cell_type": "code",
   "execution_count": 5,
   "metadata": {},
   "outputs": [
    {
     "name": "stdout",
     "output_type": "stream",
     "text": [
      "Generating cache...\n",
      "Cache generated\n"
     ]
    }
   ],
   "source": [
    "carpeta_fotos = r\"C:\\Users\\perem\\Presentacio PSIV\\animals\"\n",
    "carpeta_script = r\"C:\\Users\\perem\\Presentacio PSIV\"\n",
    "cache(carpeta_script, carpeta_fotos)"
   ]
  },
  {
   "cell_type": "markdown",
   "metadata": {},
   "source": [
    "Load the cached data with average colors and image paths"
   ]
  },
  {
   "cell_type": "code",
   "execution_count": 6,
   "metadata": {},
   "outputs": [
    {
     "name": "stdout",
     "output_type": "stream",
     "text": [
      "Data loaded correctly\n"
     ]
    }
   ],
   "source": [
    "with open(\"cache.json\", \"r\") as file:\n",
    "    data = json.load(file)\n",
    "    \n",
    "print(\"Data loaded correctly\")"
   ]
  },
  {
   "cell_type": "markdown",
   "metadata": {},
   "source": [
    "Example with our image:"
   ]
  },
  {
   "cell_type": "code",
   "execution_count": null,
   "metadata": {},
   "outputs": [],
   "source": [
    "\n",
    "path_imatge =  # Introduce the image path\n",
    "    \n",
    "imatge_original = cv2.imread(path_imatge)\n",
    "imatge_original = cv2.cvtColor(imatge_original, cv2.COLOR_BGR2RGB)\n",
    "img = copy.deepcopy(imatge_original)\n",
    "\n",
    "tile_height =  # Introduce the tile height\n",
    "tile_width =  # Introduce the tile width\n",
    "\n",
    "scale_factor =  # Introduce the scale factor for better results\n",
    "\n",
    "if scale_factor != 1:\n",
    "    img_height, img_width = img.shape[:2]\n",
    "    new_width = int(img_width * scale_factor)  \n",
    "    new_height = int(img_height * scale_factor) \n",
    "    img = cv2.resize(img, (new_width, new_height), interpolation=cv2.INTER_LINEAR)\n",
    "\n",
    "img_height, img_width, _ = img.shape\n",
    "num_tiles_h, num_tiles_w = img_height // tile_height, img_width // tile_width\n",
    "img = img[:tile_height * num_tiles_h, :tile_width * num_tiles_w]\n",
    "\n",
    "tiles = []\n",
    "for y in range(0, img_height, tile_height):\n",
    "    for x in range(0, img_width, tile_width):\n",
    "        tiles.append((y, y + tile_height, x, x + tile_width))\n",
    "\n",
    "for tile in tiles:\n",
    "    y0, y1, x0, x1 = tile\n",
    "    try:\n",
    "        average_color = get_average_color(img[y0:y1, x0:x1])\n",
    "    except Exception:\n",
    "        continue\n",
    "    closest_color = get_closest_color(average_color, data.keys())\n",
    "    i_path = random.choice(data[str(closest_color)])\n",
    "    imagen = Image.open(i_path)\n",
    "    i = np.array(imagen)\n",
    "    i = cv2.resize(i, (tile_width, tile_height))\n",
    "\n",
    "    img[y0:y1, x0:x1] = i\n",
    "\n",
    "    cv2.imshow('Mosaic', cv2.cvtColor(img, cv2.COLOR_RGB2BGR))\n",
    "    cv2.waitKey(1)\n",
    "\n",
    "cv2.waitKey(0)\n",
    "cv2.destroyAllWindows() \n",
    "\n",
    "plt.imsave(\"output.png\", img)\n",
    "\n",
    "fig, axes = plt.subplots(1, 2, figsize=(12,8))\n",
    "\n",
    "axes[0].imshow(imatge_original, cmap=\"gray\")\n",
    "axes[0].set_title(\"Foto original:\")\n",
    "axes[0].axis('off')\n",
    "axes[1].imshow(img, cmap=\"gray\")\n",
    "axes[1].set_title(\"Mosaic:\")\n",
    "axes[1].axis('off')\n",
    "\n",
    "plt.show()"
   ]
  },
  {
   "cell_type": "markdown",
   "metadata": {
    "id": "ViQyG5ifI16O"
   },
   "source": [
    "# **CHALLENGE**\n",
    "\n",
    "**STEP 1: Process the Base Image:**\n",
    "Load YOUR IMAGE and divide it into small tiles (we recommend(10x10 pixels)). This will ensure the image size is adjusted to fit these tiles exactly.\n",
    "\n",
    "**STEP 2: Replace Tiles with Matching Images:**\n",
    "Iterate through each tile, calculate its average color, and find the closest match from the cached images. A random image from the matching color group should be resized and placed into the mosaic.\n",
    "\n",
    "**STEP 3: Fix the *get_average_color()* function:**\n",
    "Fix the function making it to compute the average of the image and not the first pixel of it.\n",
    "\n",
    "**STEP 4: Fix the *get_closest_color()* function:**\n",
    "Fix the function in order to calculate the closest color based on the euqlidean distance instead of choosing a random image.\n",
    "\n",
    "**FINAL STEP: Real-Time Display and Final Output:**\n",
    "As each tile is replaced, the program updates the display *(cv2.imshow)* in real-time. Once all tiles are replaced, the final photomosaic is saved as *output.jpg*.\n"
   ]
  },
  {
   "cell_type": "code",
   "execution_count": 8,
   "metadata": {
    "id": "4q92o5g7AxUC"
   },
   "outputs": [],
   "source": [
    "# WRITE YOUR CODE HERE"
   ]
  },
  {
   "cell_type": "code",
   "execution_count": 28,
   "metadata": {},
   "outputs": [
    {
     "name": "stdout",
     "output_type": "stream",
     "text": [
      "Generating cache...\n",
      "Cache generated\n"
     ]
    }
   ],
   "source": [
    "carpeta_fotos = r\"C:\\Users\\LAURA\\OneDrive\\Escriptori\\PSIV\\animals1\"\n",
    "carpeta_script = r\"C:\\Users\\LAURA\\OneDrive\\Escriptori\\PSIV\"\n",
    "cache(carpeta_script, carpeta_fotos)"
   ]
  },
  {
   "cell_type": "code",
   "execution_count": 29,
   "metadata": {},
   "outputs": [
    {
     "name": "stdout",
     "output_type": "stream",
     "text": [
      "Data loaded correctly\n"
     ]
    }
   ],
   "source": [
    "with open(\"cache.json\", \"r\") as file:\n",
    "    data = json.load(file)\n",
    "    \n",
    "print(\"Data loaded correctly\")"
   ]
  },
  {
   "cell_type": "code",
   "execution_count": 30,
   "metadata": {},
   "outputs": [
    {
     "ename": "ValueError",
     "evalue": "No hay colores en la caché",
     "output_type": "error",
     "traceback": [
      "\u001b[0;31m---------------------------------------------------------------------------\u001b[0m",
      "\u001b[0;31mValueError\u001b[0m                                Traceback (most recent call last)",
      "\u001b[0;32m/tmp/ipykernel_83365/1455089501.py\u001b[0m in \u001b[0;36m<module>\u001b[0;34m\u001b[0m\n\u001b[1;32m     31\u001b[0m     \u001b[0;32mexcept\u001b[0m \u001b[0mException\u001b[0m\u001b[0;34m:\u001b[0m\u001b[0;34m\u001b[0m\u001b[0;34m\u001b[0m\u001b[0m\n\u001b[1;32m     32\u001b[0m         \u001b[0;32mcontinue\u001b[0m\u001b[0;34m\u001b[0m\u001b[0;34m\u001b[0m\u001b[0m\n\u001b[0;32m---> 33\u001b[0;31m     \u001b[0mclosest_color\u001b[0m \u001b[0;34m=\u001b[0m \u001b[0mget_closest_color\u001b[0m\u001b[0;34m(\u001b[0m\u001b[0maverage_color\u001b[0m\u001b[0;34m,\u001b[0m \u001b[0mdata\u001b[0m\u001b[0;34m.\u001b[0m\u001b[0mkeys\u001b[0m\u001b[0;34m(\u001b[0m\u001b[0;34m)\u001b[0m\u001b[0;34m)\u001b[0m\u001b[0;34m\u001b[0m\u001b[0;34m\u001b[0m\u001b[0m\n\u001b[0m\u001b[1;32m     34\u001b[0m     \u001b[0mi_path\u001b[0m \u001b[0;34m=\u001b[0m \u001b[0mrandom\u001b[0m\u001b[0;34m.\u001b[0m\u001b[0mchoice\u001b[0m\u001b[0;34m(\u001b[0m\u001b[0mdata\u001b[0m\u001b[0;34m[\u001b[0m\u001b[0mstr\u001b[0m\u001b[0;34m(\u001b[0m\u001b[0mclosest_color\u001b[0m\u001b[0;34m)\u001b[0m\u001b[0;34m]\u001b[0m\u001b[0;34m)\u001b[0m\u001b[0;34m\u001b[0m\u001b[0;34m\u001b[0m\u001b[0m\n\u001b[1;32m     35\u001b[0m     \u001b[0mimagen\u001b[0m \u001b[0;34m=\u001b[0m \u001b[0mImage\u001b[0m\u001b[0;34m.\u001b[0m\u001b[0mopen\u001b[0m\u001b[0;34m(\u001b[0m\u001b[0mi_path\u001b[0m\u001b[0;34m)\u001b[0m\u001b[0;34m\u001b[0m\u001b[0;34m\u001b[0m\u001b[0m\n",
      "\u001b[0;32m/tmp/ipykernel_83365/2259597789.py\u001b[0m in \u001b[0;36mget_closest_color\u001b[0;34m(color, colors)\u001b[0m\n\u001b[1;32m      2\u001b[0m \u001b[0;32mdef\u001b[0m \u001b[0mget_closest_color\u001b[0m\u001b[0;34m(\u001b[0m\u001b[0mcolor\u001b[0m\u001b[0;34m,\u001b[0m \u001b[0mcolors\u001b[0m\u001b[0;34m)\u001b[0m\u001b[0;34m:\u001b[0m\u001b[0;34m\u001b[0m\u001b[0;34m\u001b[0m\u001b[0m\n\u001b[1;32m      3\u001b[0m     \u001b[0;32mif\u001b[0m \u001b[0;32mnot\u001b[0m \u001b[0mcolors\u001b[0m\u001b[0;34m:\u001b[0m  \u001b[0;31m# Si la lista está vacía, lanzar un error o devolver un color predeterminado\u001b[0m\u001b[0;34m\u001b[0m\u001b[0;34m\u001b[0m\u001b[0m\n\u001b[0;32m----> 4\u001b[0;31m         \u001b[0;32mraise\u001b[0m \u001b[0mValueError\u001b[0m\u001b[0;34m(\u001b[0m\u001b[0;34m\"No hay colores en la caché\"\u001b[0m\u001b[0;34m)\u001b[0m\u001b[0;34m\u001b[0m\u001b[0;34m\u001b[0m\u001b[0m\n\u001b[0m\u001b[1;32m      5\u001b[0m \u001b[0;34m\u001b[0m\u001b[0m\n\u001b[1;32m      6\u001b[0m     \u001b[0mcolor\u001b[0m \u001b[0;34m=\u001b[0m \u001b[0mnp\u001b[0m\u001b[0;34m.\u001b[0m\u001b[0marray\u001b[0m\u001b[0;34m(\u001b[0m\u001b[0mcolor\u001b[0m\u001b[0;34m)\u001b[0m\u001b[0;34m\u001b[0m\u001b[0;34m\u001b[0m\u001b[0m\n",
      "\u001b[0;31mValueError\u001b[0m: No hay colores en la caché"
     ]
    }
   ],
   "source": [
    "path_imatge =  \"funny_cat.jpg\" # Introduce the image path\n",
    "    \n",
    "imatge_original = cv2.imread(path_imatge)\n",
    "imatge_original = cv2.cvtColor(imatge_original, cv2.COLOR_BGR2RGB)\n",
    "img = copy.deepcopy(imatge_original)\n",
    "\n",
    "tile_height =  10 # Introduce the tile height\n",
    "tile_width =  10 # Introduce the tile width\n",
    "\n",
    "scale_factor =  1 # Introduce the scale factor for better results\n",
    "\n",
    "if scale_factor != 1:\n",
    "    img_height, img_width = img.shape[:2]\n",
    "    new_width = int(img_width * scale_factor)  \n",
    "    new_height = int(img_height * scale_factor) \n",
    "    img = cv2.resize(img, (new_width, new_height), interpolation=cv2.INTER_LINEAR)\n",
    "\n",
    "img_height, img_width, _ = img.shape\n",
    "num_tiles_h, num_tiles_w = img_height // tile_height, img_width // tile_width\n",
    "img = img[:tile_height * num_tiles_h, :tile_width * num_tiles_w]\n",
    "\n",
    "tiles = []\n",
    "for y in range(0, img_height, tile_height):\n",
    "    for x in range(0, img_width, tile_width):\n",
    "        tiles.append((y, y + tile_height, x, x + tile_width))\n",
    "\n",
    "for tile in tiles:\n",
    "    y0, y1, x0, x1 = tile\n",
    "    try:\n",
    "        average_color = get_average_color(img[y0:y1, x0:x1])\n",
    "    except Exception:\n",
    "        continue\n",
    "    closest_color = get_closest_color(average_color, data.keys())\n",
    "    i_path = random.choice(data[str(closest_color)])\n",
    "    imagen = Image.open(i_path)\n",
    "    i = np.array(imagen)\n",
    "    i = cv2.resize(i, (tile_width, tile_height))\n",
    "\n",
    "    img[y0:y1, x0:x1] = i\n",
    "\n",
    "    cv2.imshow('Mosaic', cv2.cvtColor(img, cv2.COLOR_RGB2BGR))\n",
    "    cv2.waitKey(1)\n",
    "\n",
    "cv2.waitKey(0)\n",
    "cv2.destroyAllWindows() \n",
    "\n",
    "plt.imsave(\"output.png\", img)\n",
    "\n",
    "fig, axes = plt.subplots(1, 2, figsize=(12,8))\n",
    "\n",
    "axes[0].imshow(imatge_original, cmap=\"gray\")\n",
    "axes[0].set_title(\"Foto original:\")\n",
    "axes[0].axis('off')\n",
    "axes[1].imshow(img, cmap=\"gray\")\n",
    "axes[1].set_title(\"Mosaic:\")\n",
    "axes[1].axis('off')\n",
    "\n",
    "plt.show()"
   ]
  },
  {
   "cell_type": "code",
   "execution_count": null,
   "metadata": {},
   "outputs": [],
   "source": []
  }
 ],
 "metadata": {
  "colab": {
   "provenance": []
  },
  "kernelspec": {
   "display_name": "Python 3 (ipykernel)",
   "language": "python",
   "name": "python3"
  },
  "language_info": {
   "codemirror_mode": {
    "name": "ipython",
    "version": 3
   },
   "file_extension": ".py",
   "mimetype": "text/x-python",
   "name": "python",
   "nbconvert_exporter": "python",
   "pygments_lexer": "ipython3",
   "version": "3.10.12"
  }
 },
 "nbformat": 4,
 "nbformat_minor": 4
}
