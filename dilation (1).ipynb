{
 "cells": [
  {
   "cell_type": "code",
   "execution_count": 2,
   "id": "5906d127",
   "metadata": {},
   "outputs": [],
   "source": [
    "#%%writefile dilation.py\n",
    "\n",
    "import numpy as np\n",
    "\n",
    "def dilation_manual(image, struct_elem):\n",
    "    h, w = image.shape\n",
    "    sh, sw = struct_elem.shape\n",
    "    pad_h, pad_w = sh // 2, sw // 2\n",
    "\n",
    "    # Convert image to binary if it contains values in the range 0-255\n",
    "    if np.max(image) == 255:\n",
    "        image = image // 255  # Convert image to binary values (0 or 1)\n",
    "\n",
    "    # Apply padding to the original image\n",
    "    padded_image = np.pad(image, ((pad_h, pad_h), (pad_w, pad_w)), mode='constant', constant_values=0)\n",
    "    dilated_image = np.zeros_like(image)\n",
    "\n",
    "    # Apply dilation by scanning the image\n",
    "    for i in range(h):\n",
    "        for j in range(w):\n",
    "            region = padded_image[i:i+sh, j:j+sw]\n",
    "\n",
    "            # If at least one pixel in the region is 1 in struct_elem\n",
    "            if np.any(region[struct_elem == 1] == 1):  \n",
    "                dilated_image[i, j] = 1\n",
    "\n",
    "    return dilated_image\n"
   ]
  },
  {
   "cell_type": "code",
   "execution_count": null,
   "id": "92caf472",
   "metadata": {},
   "outputs": [],
   "source": []
  }
 ],
 "metadata": {
  "kernelspec": {
   "display_name": "Python 3 (ipykernel)",
   "language": "python",
   "name": "python3"
  },
  "language_info": {
   "codemirror_mode": {
    "name": "ipython",
    "version": 3
   },
   "file_extension": ".py",
   "mimetype": "text/x-python",
   "name": "python",
   "nbconvert_exporter": "python",
   "pygments_lexer": "ipython3",
   "version": "3.10.12"
  }
 },
 "nbformat": 4,
 "nbformat_minor": 5
}
