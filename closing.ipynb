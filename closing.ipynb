{
 "cells": [
  {
   "cell_type": "code",
   "execution_count": 2,
   "id": "90c28663",
   "metadata": {},
   "outputs": [],
   "source": [
    "import numpy as np\n",
    "import matplotlib.pyplot as plt\n",
    "import cv2"
   ]
  },
  {
   "cell_type": "code",
   "execution_count": 5,
   "id": "e8d4af18",
   "metadata": {},
   "outputs": [],
   "source": [
    "# Función para aplicar erosión manualmente\n",
    "def erosion_manual(image, struct_elem):\n",
    "    h, w = image.shape\n",
    "    sh, sw = struct_elem.shape\n",
    "    pad_h, pad_w = sh // 2, sw // 2\n",
    "\n",
    "    # Convertimos la imagen a binaria si está en 0-255 (para que sea binaria en 0-1)\n",
    "    if np.max(image) == 255:\n",
    "        image = image // 255  # Convertir la imagen a valores binarios 0 o 1\n",
    "\n",
    "    # Aplicamos padding a la imagen original\n",
    "    padded_image = np.pad(image, ((pad_h, pad_h), (pad_w, pad_w)), mode='constant', constant_values=0)\n",
    "    eroded_image = np.zeros_like(image)\n",
    "\n",
    "    # Aplicar erosión recorriendo la imagen\n",
    "    for i in range(h):\n",
    "        for j in range(w):\n",
    "            region = padded_image[i:i+sh, j:j+sw]\n",
    "            \n",
    "            # Comprobamos si todos los píxeles donde hay 1s en el struct_elem son 1 en la imagen binaria\n",
    "            if np.all(region[struct_elem == 1] == 1):  \n",
    "                eroded_image[i, j] = 1  # Mantiene el píxel solo si encaja con el structuring element\n",
    "\n",
    "    return eroded_image\n",
    "\n",
    "# Función para aplicar dilatación manualmente\n",
    "def dilatacion_manual(image, struct_elem):\n",
    "    h, w = image.shape\n",
    "    sh, sw = struct_elem.shape\n",
    "    pad_h, pad_w = sh // 2, sw // 2\n",
    "\n",
    "    # Convertimos la imagen a binaria si está en 0-255 (para que sea binaria en 0-1)\n",
    "    if np.max(image) == 255:\n",
    "        image = image // 255  # Convertir la imagen a valores binarios 0 o 1\n",
    "\n",
    "    # Imagen con padding\n",
    "    padded_image = np.pad(image, ((pad_h, pad_h), (pad_w, pad_w)), mode='constant', constant_values=0)\n",
    "    dilated_image = np.zeros_like(image)\n",
    "\n",
    "    # Aplicar dilatación\n",
    "    for i in range(h):\n",
    "        for j in range(w):\n",
    "            region = padded_image[i:i+sh, j:j+sw]\n",
    "            # Si al menos un píxel de la región es 1 en el structuring element\n",
    "            if np.any(region[struct_elem == 1] == 1):  \n",
    "                dilated_image[i, j] = 1\n",
    "\n",
    "    return dilated_image"
   ]
  },
  {
   "cell_type": "code",
   "execution_count": 6,
   "id": "0065549d",
   "metadata": {},
   "outputs": [
    {
     "data": {
      "image/png": "[encoded data removed]",
      "text/plain": [
       "<Figure size 720x360 with 3 Axes>"
      ]
     },
     "metadata": {
      "needs_background": "light"
     },
     "output_type": "display_data"
    }
   ],
   "source": [
    "# Load the image in grayscale\n",
    "image = cv2.imread('test.jpg', cv2.IMREAD_GRAYSCALE)\n",
    "\n",
    "# Verify if the image loaded correctly\n",
    "if image is None:\n",
    "    raise FileNotFoundError(\"⚠️ Image not found. Check the filename and path.\")\n",
    "\n",
    "# Convert to binary (Thresholding)\n",
    "_, binary = cv2.threshold(image, 127, 255, cv2.THRESH_BINARY_INV)\n",
    "\n",
    "# Define a structuring element (kernel)\n",
    "kernel = np.ones((5,5), np.uint8)  \n",
    "\n",
    "# Apply dilation\n",
    "dilated_image = dilatacion_manual(binary, kernel)\n",
    "\n",
    "# Apply erosion\n",
    "eroded_image = erosion_manual(dilated_image, kernel)\n",
    "\n",
    "# Display the original and processed images\n",
    "titles = [\"Binary Image\", \"Dilated_image\",\"Closing (Dilation → Erosion)\"]\n",
    "images = [binary, dilated_image, eroded_image]\n",
    "\n",
    "plt.figure(figsize=(10, 5))\n",
    "for i in range(len(images)):\n",
    "    plt.subplot(1, 3, i+1)\n",
    "    plt.imshow(images[i], cmap='gray')\n",
    "    plt.title(titles[i])\n",
    "    plt.axis(\"off\")\n",
    "\n",
    "plt.tight_layout()\n",
    "plt.show()"
   ]
  },
  {
   "cell_type": "code",
   "execution_count": null,
   "id": "e926e71f",
   "metadata": {},
   "outputs": [],
   "source": []
  }
 ],
 "metadata": {
  "kernelspec": {
   "display_name": "Python 3 (ipykernel)",
   "language": "python",
   "name": "python3"
  },
  "language_info": {
   "codemirror_mode": {
    "name": "ipython",
    "version": 3
   },
   "file_extension": ".py",
   "mimetype": "text/x-python",
   "name": "python",
   "nbconvert_exporter": "python",
   "pygments_lexer": "ipython3",
   "version": "3.10.12"
  }
 },
 "nbformat": 4,
 "nbformat_minor": 5
}
