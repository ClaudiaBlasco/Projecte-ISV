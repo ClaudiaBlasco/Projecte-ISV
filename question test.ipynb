{
 "cells": [
  {
   "cell_type": "code",
   "execution_count": 14,
   "id": "f6c18d85",
   "metadata": {},
   "outputs": [
    {
     "data": {
      "image/png": "[encoded data removed]",
      "text/plain": [
       "<Figure size 720x720 with 4 Axes>"
      ]
     },
     "metadata": {},
     "output_type": "display_data"
    }
   ],
   "source": [
    "import numpy as np\n",
    "import matplotlib.pyplot as plt\n",
    "\n",
    "# Define the main matrix (8 representation)\n",
    "matrix = np.array([\n",
    "    [0, 0, 0, 0, 0, 0, 0, 0, 0, 0, 0, 0, 0],\n",
    "    [0, 0, 1, 1, 1, 1, 1, 1, 1, 1, 1, 0, 0],\n",
    "    [0, 0, 1, 1, 1, 1, 1, 1, 1, 1, 1, 0, 0],\n",
    "    [0, 0, 1, 1, 0, 0, 0, 0, 0, 1, 1, 0, 0],\n",
    "    [0, 0, 1, 1, 0, 0, 0, 0, 0, 1, 1, 0, 0],\n",
    "    [0, 0, 1, 1, 1, 1, 1, 1, 1, 1, 1, 0, 0],\n",
    "    [0, 0, 1, 1, 0, 0, 0, 0, 0, 1, 1, 0, 0],\n",
    "    [0, 0, 1, 1, 0, 0, 0, 0, 0, 1, 1, 0, 0],\n",
    "    [0, 0, 1, 1, 1, 1, 1, 1, 1, 1, 1, 0, 0],\n",
    "    [0, 0, 1, 1, 1, 1, 1, 1, 1, 1, 1, 0, 0],\n",
    "    [0, 0, 0, 0, 0, 0, 0, 0, 0, 0, 0, 0, 0]\n",
    "])\n",
    "\n",
    "# Define the structuring element (same size grid)\n",
    "structuring_element = np.zeros_like(matrix)\n",
    "structuring_element[4:7, 5:8] = np.array([\n",
    "    [0, 1, 0],\n",
    "    [1, 1, 1],\n",
    "    [0, 1, 0]\n",
    "])\n",
    "\n",
    "# Define two empty grids\n",
    "empty_grid1 = np.zeros_like(matrix)\n",
    "empty_grid2 = np.zeros_like(matrix)\n",
    "\n",
    "# Create figure with four subplots\n",
    "fig, axes = plt.subplots(2, 2, figsize=(10, 10))\n",
    "\n",
    "# Function to display a matrix with a grid\n",
    "def show_matrix(ax, matrix, title):\n",
    "    ax.imshow(matrix, cmap='gray_r', interpolation='nearest', extent=[0, matrix.shape[1], 0, matrix.shape[0]])\n",
    "    ax.set_xticks(np.arange(0, matrix.shape[1], 1))\n",
    "    ax.set_yticks(np.arange(0, matrix.shape[0], 1))\n",
    "    ax.grid(visible=True, color='black', linewidth=1)\n",
    "    ax.set_xlim(0, matrix.shape[1])\n",
    "    ax.set_ylim(matrix.shape[0], 0)\n",
    "    ax.tick_params(which='both', bottom=False, left=False, labelbottom=False, labelleft=False)\n",
    "    ax.set_title(title)\n",
    "\n",
    "# Display the main matrix (8 representation)\n",
    "show_matrix(axes[0, 0], matrix, \"Number 8 Matrix\")\n",
    "\n",
    "# Display the structuring element\n",
    "show_matrix(axes[0, 1], structuring_element, \"Structuring Element\")\n",
    "\n",
    "# Display the empty grids\n",
    "show_matrix(axes[1, 0], empty_grid1, \"Empty Grid - Erosion\")\n",
    "show_matrix(axes[1, 1], empty_grid2, \"Empty Grid - Dilation\")\n",
    "\n",
    "plt.tight_layout()\n",
    "plt.show()\n"
   ]
  },
  {
   "cell_type": "code",
   "execution_count": null,
   "id": "ce9c6ee6",
   "metadata": {},
   "outputs": [],
   "source": []
  }
 ],
 "metadata": {
  "kernelspec": {
   "display_name": "Python 3 (ipykernel)",
   "language": "python",
   "name": "python3"
  },
  "language_info": {
   "codemirror_mode": {
    "name": "ipython",
    "version": 3
   },
   "file_extension": ".py",
   "mimetype": "text/x-python",
   "name": "python",
   "nbconvert_exporter": "python",
   "pygments_lexer": "ipython3",
   "version": "3.10.12"
  }
 },
 "nbformat": 4,
 "nbformat_minor": 5
}
